{
  "nbformat": 4,
  "nbformat_minor": 0,
  "metadata": {
    "colab": {
      "name": "HomeWork_4.ipynb",
      "provenance": [],
      "collapsed_sections": []
    },
    "kernelspec": {
      "name": "python3",
      "display_name": "Python 3"
    },
    "language_info": {
      "name": "python"
    }
  },
  "cells": [
    {
      "cell_type": "code",
      "execution_count": 1,
      "metadata": {
        "id": "PJMacqyVX4Qy",
        "colab": {
          "base_uri": "https://localhost:8080/"
        },
        "outputId": "108cef8f-d251-458a-e493-9adc76e9c41d"
      },
      "outputs": [
        {
          "output_type": "stream",
          "name": "stdout",
          "text": [
            "Looking in indexes: https://pypi.org/simple, https://us-python.pkg.dev/colab-wheels/public/simple/\n",
            "Requirement already satisfied: pyspark in /usr/local/lib/python3.7/dist-packages (3.2.1)\n",
            "Requirement already satisfied: py4j==0.10.9.3 in /usr/local/lib/python3.7/dist-packages (from pyspark) (0.10.9.3)\n",
            "Looking in indexes: https://pypi.org/simple, https://us-python.pkg.dev/colab-wheels/public/simple/\n",
            "Requirement already satisfied: matplotlib in /usr/local/lib/python3.7/dist-packages (3.2.2)\n",
            "Requirement already satisfied: numpy>=1.11 in /usr/local/lib/python3.7/dist-packages (from matplotlib) (1.21.6)\n",
            "Requirement already satisfied: pyparsing!=2.0.4,!=2.1.2,!=2.1.6,>=2.0.1 in /usr/local/lib/python3.7/dist-packages (from matplotlib) (3.0.9)\n",
            "Requirement already satisfied: python-dateutil>=2.1 in /usr/local/lib/python3.7/dist-packages (from matplotlib) (2.8.2)\n",
            "Requirement already satisfied: kiwisolver>=1.0.1 in /usr/local/lib/python3.7/dist-packages (from matplotlib) (1.4.2)\n",
            "Requirement already satisfied: cycler>=0.10 in /usr/local/lib/python3.7/dist-packages (from matplotlib) (0.11.0)\n",
            "Requirement already satisfied: typing-extensions in /usr/local/lib/python3.7/dist-packages (from kiwisolver>=1.0.1->matplotlib) (4.2.0)\n",
            "Requirement already satisfied: six>=1.5 in /usr/local/lib/python3.7/dist-packages (from python-dateutil>=2.1->matplotlib) (1.15.0)\n",
            "Looking in indexes: https://pypi.org/simple, https://us-python.pkg.dev/colab-wheels/public/simple/\n",
            "Requirement already satisfied: seaborn in /usr/local/lib/python3.7/dist-packages (0.11.2)\n",
            "Requirement already satisfied: numpy>=1.15 in /usr/local/lib/python3.7/dist-packages (from seaborn) (1.21.6)\n",
            "Requirement already satisfied: matplotlib>=2.2 in /usr/local/lib/python3.7/dist-packages (from seaborn) (3.2.2)\n",
            "Requirement already satisfied: pandas>=0.23 in /usr/local/lib/python3.7/dist-packages (from seaborn) (1.3.5)\n",
            "Requirement already satisfied: scipy>=1.0 in /usr/local/lib/python3.7/dist-packages (from seaborn) (1.4.1)\n",
            "Requirement already satisfied: cycler>=0.10 in /usr/local/lib/python3.7/dist-packages (from matplotlib>=2.2->seaborn) (0.11.0)\n",
            "Requirement already satisfied: kiwisolver>=1.0.1 in /usr/local/lib/python3.7/dist-packages (from matplotlib>=2.2->seaborn) (1.4.2)\n",
            "Requirement already satisfied: python-dateutil>=2.1 in /usr/local/lib/python3.7/dist-packages (from matplotlib>=2.2->seaborn) (2.8.2)\n",
            "Requirement already satisfied: pyparsing!=2.0.4,!=2.1.2,!=2.1.6,>=2.0.1 in /usr/local/lib/python3.7/dist-packages (from matplotlib>=2.2->seaborn) (3.0.9)\n",
            "Requirement already satisfied: typing-extensions in /usr/local/lib/python3.7/dist-packages (from kiwisolver>=1.0.1->matplotlib>=2.2->seaborn) (4.2.0)\n",
            "Requirement already satisfied: pytz>=2017.3 in /usr/local/lib/python3.7/dist-packages (from pandas>=0.23->seaborn) (2022.1)\n",
            "Requirement already satisfied: six>=1.5 in /usr/local/lib/python3.7/dist-packages (from python-dateutil>=2.1->matplotlib>=2.2->seaborn) (1.15.0)\n"
          ]
        }
      ],
      "source": [
        "!pip install pyspark\n",
        "!pip install matplotlib\n",
        "!pip install seaborn"
      ]
    },
    {
      "cell_type": "code",
      "source": [
        "from matplotlib import pyplot as plt\n",
        "from pyspark.sql import SparkSession, Window\n",
        "import pyspark.sql.functions as sf\n",
        "from pyspark.ml.feature import StringIndexer, OneHotEncoder, VectorAssembler\n",
        "from pyspark.ml.classification import LogisticRegression\n",
        "\n",
        "plt.rcParams['figure.figsize'] = (14,7)"
      ],
      "metadata": {
        "id": "0M3Zd4RASZUa"
      },
      "execution_count": 36,
      "outputs": []
    },
    {
      "cell_type": "code",
      "source": [
        "# Creating a Spark Session\n",
        "spark = SparkSession.builder.appName(\"homework\").getOrCreate()\n",
        "\n",
        "df = spark.read.csv(\"/content/drive/MyDrive/Colab Notebooks/Data/data.csv\", inferSchema = True, header = True)\n",
        "df.printSchema()\n",
        "df.count()"
      ],
      "metadata": {
        "colab": {
          "base_uri": "https://localhost:8080/"
        },
        "id": "wxBVbjNdLTPh",
        "outputId": "b1ec0ce9-4268-4c9c-bb96-13794a2c1024"
      },
      "execution_count": 3,
      "outputs": [
        {
          "output_type": "stream",
          "name": "stdout",
          "text": [
            "root\n",
            " |-- customerID: string (nullable = true)\n",
            " |-- gender: string (nullable = true)\n",
            " |-- SeniorCitizen: double (nullable = true)\n",
            " |-- Partner: string (nullable = true)\n",
            " |-- Dependents: string (nullable = true)\n",
            " |-- tenure: double (nullable = true)\n",
            " |-- PhoneService: string (nullable = true)\n",
            " |-- MultipleLines: string (nullable = true)\n",
            " |-- InternetService: string (nullable = true)\n",
            " |-- OnlineSecurity: string (nullable = true)\n",
            " |-- OnlineBackup: string (nullable = true)\n",
            " |-- DeviceProtection: string (nullable = true)\n",
            " |-- TechSupport: string (nullable = true)\n",
            " |-- StreamingTV: string (nullable = true)\n",
            " |-- StreamingMovies: string (nullable = true)\n",
            " |-- Contract: string (nullable = true)\n",
            " |-- PaperlessBilling: string (nullable = true)\n",
            " |-- PaymentMethod: string (nullable = true)\n",
            " |-- MonthlyCharges: double (nullable = true)\n",
            " |-- TotalCharges: double (nullable = true)\n",
            " |-- Label: string (nullable = true)\n",
            "\n"
          ]
        },
        {
          "output_type": "execute_result",
          "data": {
            "text/plain": [
              "229990"
            ]
          },
          "metadata": {},
          "execution_count": 3
        }
      ]
    },
    {
      "cell_type": "code",
      "source": [
        "df.show()"
      ],
      "metadata": {
        "colab": {
          "base_uri": "https://localhost:8080/"
        },
        "id": "MdEoPa8leQ5r",
        "outputId": "1e8fcf6e-4299-49c7-8099-31ddc83e66cc"
      },
      "execution_count": 4,
      "outputs": [
        {
          "output_type": "stream",
          "name": "stdout",
          "text": [
            "+----------+------+-------------+-------+----------+------+------------+----------------+---------------+-------------------+-------------------+-------------------+-------------------+-------------------+-------------------+--------------+----------------+--------------------+--------------+------------+-----+\n",
            "|customerID|gender|SeniorCitizen|Partner|Dependents|tenure|PhoneService|   MultipleLines|InternetService|     OnlineSecurity|       OnlineBackup|   DeviceProtection|        TechSupport|        StreamingTV|    StreamingMovies|      Contract|PaperlessBilling|       PaymentMethod|MonthlyCharges|TotalCharges|Label|\n",
            "+----------+------+-------------+-------+----------+------+------------+----------------+---------------+-------------------+-------------------+-------------------+-------------------+-------------------+-------------------+--------------+----------------+--------------------+--------------+------------+-----+\n",
            "|5331-RGMTT|  Male|          1.0|    Yes|        No|  54.0|         Yes|             Yes|    Fiber optic|                 No|                 No|                Yes|                 No|                Yes|                Yes|Month-to-month|             Yes|Credit card (auto...|         99.05|      5295.7|   No|\n",
            "|5161-XEUVX|  Male|          0.0|    Yes|        No|  37.0|         Yes|             Yes|    Fiber optic|                 No|                 No|                Yes|                Yes|                Yes|                 No|      Two year|              No|        Mailed check|          94.3|     3460.95|   No|\n",
            "|0336-PIKEI|  Male|          1.0|    Yes|        No|  72.0|         Yes|              No|            DSL|                Yes|                Yes|                Yes|                Yes|                Yes|                 No|      Two year|              No|Bank transfer (au...|          74.4|     5360.75|   No|\n",
            "|3345-PBBFH|  Male|          0.0|    Yes|        No|   8.0|         Yes|              No|            DSL|                 No|                Yes|                 No|                 No|                 No|                 No|Month-to-month|             Yes|Bank transfer (au...|         49.55|      393.45|   No|\n",
            "|5067-XJQFU|  Male|          1.0|    Yes|       Yes|  66.0|         Yes|             Yes|    Fiber optic|                 No|                Yes|                Yes|                Yes|                Yes|                Yes|      One year|             Yes|    Electronic check|        108.45|     7076.35|   No|\n",
            "|4056-QHXHZ|Female|          0.0|    Yes|       Yes|  72.0|         Yes|             Yes|    Fiber optic|                Yes|                 No|                Yes|                Yes|                Yes|                Yes|      Two year|              No|        Mailed check|        107.45|      7576.7|   No|\n",
            "|8028-PNXHQ|  Male|          0.0|    Yes|       Yes|  62.0|         Yes|             Yes|             No|No internet service|No internet service|No internet service|No internet service|No internet service|No internet service|      Two year|             Yes|Bank transfer (au...|         24.25|      1424.6|   No|\n",
            "|8181-YHCMF|Female|          0.0|    Yes|       Yes|  68.0|          No|No phone service|            DSL|                 No|                Yes|                Yes|                Yes|                Yes|                Yes|      Two year|              No|Credit card (auto...|          60.3|      4109.0|   No|\n",
            "|6734-PSBAW|  Male|          0.0|    Yes|        No|  72.0|         Yes|             Yes|             No|No internet service|No internet service|No internet service|No internet service|No internet service|No internet service|      Two year|             Yes|Bank transfer (au...|         23.55|     1723.95|   No|\n",
            "|3655-SNQYZ|Female|          0.0|    Yes|       Yes|  69.0|         Yes|             Yes|    Fiber optic|                Yes|                Yes|                Yes|                Yes|                Yes|                Yes|      Two year|              No|Credit card (auto...|        113.25|     7895.15|   No|\n",
            "|9508-ILZDG|Female|          1.0|     No|        No|  34.0|         Yes|             Yes|    Fiber optic|                 No|                Yes|                 No|                Yes|                Yes|                 No|Month-to-month|             Yes|    Electronic check|         96.35|     3190.25|   No|\n",
            "|3620-EHIMZ|Female|          0.0|    Yes|       Yes|  52.0|         Yes|              No|             No|No internet service|No internet service|No internet service|No internet service|No internet service|No internet service|      Two year|              No|        Mailed check|         19.35|      1031.7|   No|\n",
            "|4178-EGMON|  Male|          0.0|    Yes|        No|  70.0|         Yes|             Yes|    Fiber optic|                Yes|                Yes|                 No|                Yes|                 No|                 No|      Two year|             Yes|Credit card (auto...|          88.0|     5986.45|   No|\n",
            "|0036-IHMOT|Female|          0.0|    Yes|       Yes|  55.0|         Yes|              No|    Fiber optic|                 No|                Yes|                Yes|                Yes|                Yes|                Yes|      One year|             Yes|Bank transfer (au...|         103.7|     5656.75|   No|\n",
            "|0281-CNTZX|  Male|          0.0|    Yes|        No|  63.0|         Yes|              No|             No|No internet service|No internet service|No internet service|No internet service|No internet service|No internet service|      Two year|             Yes|Bank transfer (au...|         19.95|      1234.8|   No|\n",
            "|0530-IJVDB|  Male|          0.0|     No|       Yes|  70.0|         Yes|             Yes|    Fiber optic|                Yes|                Yes|                Yes|                Yes|                Yes|                Yes|      Two year|             Yes|    Electronic check|         114.6|      7882.5|   No|\n",
            "|7251-XFOIL|Female|          0.0|     No|        No|  61.0|         Yes|             Yes|    Fiber optic|                 No|                 No|                Yes|                 No|                 No|                Yes|Month-to-month|              No|        Mailed check|          89.2|      5500.6|   No|\n",
            "|7079-QRCBC|Female|          0.0|     No|        No|  24.0|         Yes|             Yes|    Fiber optic|                 No|                 No|                Yes|                 No|                Yes|                Yes|Month-to-month|             Yes|    Electronic check|         98.75|      2407.3|  Yes|\n",
            "|2908-ZTPNF|Female|          0.0|     No|        No|  36.0|          No|No phone service|            DSL|                 No|                Yes|                 No|                Yes|                 No|                 No|Month-to-month|             Yes|Bank transfer (au...|         34.85|      1267.2|   No|\n",
            "|0640-YJTPY|  Male|          0.0|    Yes|       Yes|  72.0|         Yes|              No|             No|No internet service|No internet service|No internet service|No internet service|No internet service|No internet service|      Two year|              No|Bank transfer (au...|          21.0|     1493.75|   No|\n",
            "+----------+------+-------------+-------+----------+------+------------+----------------+---------------+-------------------+-------------------+-------------------+-------------------+-------------------+-------------------+--------------+----------------+--------------------+--------------+------------+-----+\n",
            "only showing top 20 rows\n",
            "\n"
          ]
        }
      ]
    },
    {
      "cell_type": "code",
      "source": [
        "df.select([sf.count(sf.when(sf.isnan(col) | sf.col(col).isNull(), col)).alias(col) for col in df.columns]).show()"
      ],
      "metadata": {
        "colab": {
          "base_uri": "https://localhost:8080/"
        },
        "id": "BJLcfHuEeVNe",
        "outputId": "483736ee-5125-46f5-bbbf-29dc79703291"
      },
      "execution_count": 5,
      "outputs": [
        {
          "output_type": "stream",
          "name": "stdout",
          "text": [
            "+----------+------+-------------+-------+----------+------+------------+-------------+---------------+--------------+------------+----------------+-----------+-----------+---------------+--------+----------------+-------------+--------------+------------+-----+\n",
            "|customerID|gender|SeniorCitizen|Partner|Dependents|tenure|PhoneService|MultipleLines|InternetService|OnlineSecurity|OnlineBackup|DeviceProtection|TechSupport|StreamingTV|StreamingMovies|Contract|PaperlessBilling|PaymentMethod|MonthlyCharges|TotalCharges|Label|\n",
            "+----------+------+-------------+-------+----------+------+------------+-------------+---------------+--------------+------------+----------------+-----------+-----------+---------------+--------+----------------+-------------+--------------+------------+-----+\n",
            "|       253|   235|          266|    225|       242|   225|         269|          263|            230|           230|         243|             254|        264|        249|            219|     230|             257|          246|           243|         251|  208|\n",
            "+----------+------+-------------+-------+----------+------+------------+-------------+---------------+--------------+------------+----------------+-----------+-----------+---------------+--------+----------------+-------------+--------------+------------+-----+\n",
            "\n"
          ]
        }
      ]
    },
    {
      "cell_type": "code",
      "source": [
        "df = df.dropDuplicates().na.drop()\n",
        "df.count()"
      ],
      "metadata": {
        "colab": {
          "base_uri": "https://localhost:8080/"
        },
        "id": "oDjYifzwqS10",
        "outputId": "425e5413-9971-4991-d0f9-bbfe0e7328ed"
      },
      "execution_count": 6,
      "outputs": [
        {
          "output_type": "execute_result",
          "data": {
            "text/plain": [
              "7038"
            ]
          },
          "metadata": {},
          "execution_count": 6
        }
      ]
    },
    {
      "cell_type": "code",
      "source": [
        "def get_list_of(feature, step=1):\n",
        "  return [item[0] for idx, item in enumerate(df.select(feature).collect()) if idx % step == 0]"
      ],
      "metadata": {
        "id": "gzmGTOb6-93R"
      },
      "execution_count": 7,
      "outputs": []
    },
    {
      "cell_type": "markdown",
      "source": [
        "# Feature Analysis & Selection"
      ],
      "metadata": {
        "id": "hOrAiD2SNRWD"
      }
    },
    {
      "cell_type": "code",
      "source": [
        "df = df.drop(\"customerID\")"
      ],
      "metadata": {
        "id": "UW2VmY0kSf8j"
      },
      "execution_count": 8,
      "outputs": []
    },
    {
      "cell_type": "markdown",
      "source": [
        "## Convert Categorical data to numerical data"
      ],
      "metadata": {
        "id": "ghPEQ-TCTU7J"
      }
    },
    {
      "cell_type": "code",
      "source": [
        "cat_cols = [item[0] for item in df.dtypes if item[1].startswith('string')]\n",
        "num_cols = [item[0] for item in df.dtypes if not item[1].startswith('string')]"
      ],
      "metadata": {
        "id": "dXaW5YGeNhYC"
      },
      "execution_count": 9,
      "outputs": []
    },
    {
      "cell_type": "code",
      "source": [
        "df_origin = df\n",
        "indexer = StringIndexer(inputCols=cat_cols, outputCols=[col + \"Index\" for col in cat_cols])\n",
        "df = indexer.fit(df).transform(df).drop(*cat_cols)\n",
        "df = df.select([sf.col(col).alias(col.replace(\"Index\", \"\")) for col in df.columns])\n",
        "df = df.withColumnRenamed(\"gender\", \"Gender\").withColumnRenamed(\"tenure\", \"Tenure\")"
      ],
      "metadata": {
        "id": "IJ89b2KRTfPH"
      },
      "execution_count": 10,
      "outputs": []
    },
    {
      "cell_type": "code",
      "source": [
        "df_origin.show()"
      ],
      "metadata": {
        "colab": {
          "base_uri": "https://localhost:8080/"
        },
        "id": "dnN4vE7PVGol",
        "outputId": "38509d49-c5cb-471f-b3e4-b71841c8624e"
      },
      "execution_count": 11,
      "outputs": [
        {
          "output_type": "stream",
          "name": "stdout",
          "text": [
            "+------+-------------+-------+----------+------+------------+----------------+---------------+-------------------+-------------------+-------------------+-------------------+-------------------+-------------------+--------------+----------------+--------------------+--------------+------------+-----+\n",
            "|gender|SeniorCitizen|Partner|Dependents|tenure|PhoneService|   MultipleLines|InternetService|     OnlineSecurity|       OnlineBackup|   DeviceProtection|        TechSupport|        StreamingTV|    StreamingMovies|      Contract|PaperlessBilling|       PaymentMethod|MonthlyCharges|TotalCharges|Label|\n",
            "+------+-------------+-------+----------+------+------------+----------------+---------------+-------------------+-------------------+-------------------+-------------------+-------------------+-------------------+--------------+----------------+--------------------+--------------+------------+-----+\n",
            "|Female|          0.0|    Yes|       Yes|  69.0|         Yes|             Yes|    Fiber optic|                Yes|                Yes|                Yes|                Yes|                Yes|                Yes|      Two year|              No|Credit card (auto...|        113.25|     7895.15|   No|\n",
            "|Female|          0.0|     No|        No|  60.0|         Yes|              No|             No|No internet service|No internet service|No internet service|No internet service|No internet service|No internet service|      Two year|              No|Bank transfer (au...|         19.85|      1128.1|   No|\n",
            "|Female|          1.0|    Yes|        No|  34.0|         Yes|             Yes|    Fiber optic|                 No|                Yes|                Yes|                 No|                 No|                Yes|Month-to-month|             Yes|    Electronic check|         94.25|     3217.55|  Yes|\n",
            "|Female|          0.0|    Yes|       Yes|  43.0|         Yes|              No|            DSL|                 No|                 No|                 No|                 No|                Yes|                 No|Month-to-month|              No|    Electronic check|         56.15|      2499.3|  Yes|\n",
            "|Female|          1.0|    Yes|       Yes|  66.0|         Yes|             Yes|    Fiber optic|                 No|                Yes|                Yes|                 No|                Yes|                Yes|      One year|             Yes|    Electronic check|         104.9|     6891.45|   No|\n",
            "|Female|          0.0|    Yes|       Yes|  70.0|         Yes|              No|             No|No internet service|No internet service|No internet service|No internet service|No internet service|No internet service|      Two year|             Yes|Credit card (auto...|         20.15|      1411.2|   No|\n",
            "|Female|          1.0|    Yes|        No|  72.0|         Yes|             Yes|    Fiber optic|                Yes|                Yes|                Yes|                Yes|                Yes|                Yes|      Two year|             Yes|Bank transfer (au...|        114.85|     8317.95|   No|\n",
            "|Female|          0.0|     No|        No|   6.0|         Yes|              No|    Fiber optic|                Yes|                Yes|                Yes|                Yes|                 No|                Yes|Month-to-month|             Yes|Bank transfer (au...|         98.15|      567.45|  Yes|\n",
            "|  Male|          1.0|    Yes|        No|  19.0|          No|No phone service|            DSL|                 No|                Yes|                Yes|                 No|                 No|                 No|Month-to-month|             Yes|Credit card (auto...|          34.3|      577.15|   No|\n",
            "|Female|          0.0|     No|        No|  61.0|         Yes|             Yes|    Fiber optic|                Yes|                Yes|                Yes|                Yes|                Yes|                Yes|      One year|             Yes|        Mailed check|         115.1|     6993.65|   No|\n",
            "|Female|          0.0|     No|        No|  15.0|         Yes|              No|             No|No internet service|No internet service|No internet service|No internet service|No internet service|No internet service|Month-to-month|              No|Bank transfer (au...|          19.4|       289.3|  Yes|\n",
            "|  Male|          0.0|     No|        No|  42.0|         Yes|             Yes|    Fiber optic|                 No|                 No|                Yes|                 No|                 No|                 No|Month-to-month|              No|    Electronic check|          79.9|      3313.4|   No|\n",
            "|Female|          0.0|     No|       Yes|   8.0|          No|No phone service|            DSL|                Yes|                 No|                 No|                 No|                 No|                Yes|Month-to-month|             Yes|    Electronic check|          38.5|       330.8|   No|\n",
            "|  Male|          0.0|    Yes|       Yes|  71.0|         Yes|              No|            DSL|                Yes|                Yes|                Yes|                Yes|                Yes|                Yes|      Two year|              No|Bank transfer (au...|         85.45|      6029.9|   No|\n",
            "|Female|          1.0|    Yes|        No|  52.0|         Yes|             Yes|    Fiber optic|                 No|                Yes|                Yes|                 No|                Yes|                Yes|      One year|             Yes|    Electronic check|         106.5|     5621.85|   No|\n",
            "|Female|          0.0|     No|       Yes|  39.0|          No|No phone service|            DSL|                 No|                 No|                Yes|                 No|                 No|                 No|Month-to-month|              No|Credit card (auto...|          30.1|      1131.3|  Yes|\n",
            "|  Male|          0.0|     No|        No|  55.0|         Yes|              No|    Fiber optic|                Yes|                Yes|                 No|                 No|                Yes|                Yes|      One year|             Yes|        Mailed check|         100.9|     5552.05|   No|\n",
            "|Female|          0.0|     No|        No|  38.0|         Yes|              No|             No|No internet service|No internet service|No internet service|No internet service|No internet service|No internet service|      Two year|              No|        Mailed check|          20.3|      743.05|   No|\n",
            "|Female|          0.0|     No|        No|  24.0|         Yes|              No|            DSL|                 No|                 No|                Yes|                 No|                 No|                 No|Month-to-month|             Yes|Credit card (auto...|          49.3|     1233.25|   No|\n",
            "|  Male|          0.0|    Yes|       Yes|  33.0|         Yes|              No|            DSL|                Yes|                 No|                Yes|                 No|                Yes|                Yes|      One year|              No|Credit card (auto...|         74.75|      2453.3|   No|\n",
            "+------+-------------+-------+----------+------+------------+----------------+---------------+-------------------+-------------------+-------------------+-------------------+-------------------+-------------------+--------------+----------------+--------------------+--------------+------------+-----+\n",
            "only showing top 20 rows\n",
            "\n"
          ]
        }
      ]
    },
    {
      "cell_type": "code",
      "source": [
        "df.show()"
      ],
      "metadata": {
        "colab": {
          "base_uri": "https://localhost:8080/"
        },
        "id": "9Bq0TAWZTfSM",
        "outputId": "1ed15379-bf19-46b4-d9a7-6b432062d30d"
      },
      "execution_count": 12,
      "outputs": [
        {
          "output_type": "stream",
          "name": "stdout",
          "text": [
            "+-------------+------+--------------+------------+------+-------+----------+------------+-------------+---------------+--------------+------------+----------------+-----------+-----------+---------------+--------+----------------+-------------+-----+\n",
            "|SeniorCitizen|Tenure|MonthlyCharges|TotalCharges|Gender|Partner|Dependents|PhoneService|MultipleLines|InternetService|OnlineSecurity|OnlineBackup|DeviceProtection|TechSupport|StreamingTV|StreamingMovies|Contract|PaperlessBilling|PaymentMethod|Label|\n",
            "+-------------+------+--------------+------------+------+-------+----------+------------+-------------+---------------+--------------+------------+----------------+-----------+-----------+---------------+--------+----------------+-------------+-----+\n",
            "|          0.0|  69.0|        113.25|     7895.15|   1.0|    1.0|       1.0|         0.0|          1.0|            0.0|           1.0|         1.0|             1.0|        1.0|        1.0|            1.0|     1.0|             1.0|          3.0|  0.0|\n",
            "|          0.0|  60.0|         19.85|      1128.1|   1.0|    0.0|       0.0|         0.0|          0.0|            2.0|           2.0|         2.0|             2.0|        2.0|        2.0|            2.0|     1.0|             1.0|          2.0|  0.0|\n",
            "|          1.0|  34.0|         94.25|     3217.55|   1.0|    1.0|       0.0|         0.0|          1.0|            0.0|           0.0|         1.0|             1.0|        0.0|        0.0|            1.0|     0.0|             0.0|          0.0|  1.0|\n",
            "|          0.0|  43.0|         56.15|      2499.3|   1.0|    1.0|       1.0|         0.0|          0.0|            1.0|           0.0|         0.0|             0.0|        0.0|        1.0|            0.0|     0.0|             1.0|          0.0|  1.0|\n",
            "|          1.0|  66.0|         104.9|     6891.45|   1.0|    1.0|       1.0|         0.0|          1.0|            0.0|           0.0|         1.0|             1.0|        0.0|        1.0|            1.0|     2.0|             0.0|          0.0|  0.0|\n",
            "|          0.0|  70.0|         20.15|      1411.2|   1.0|    1.0|       1.0|         0.0|          0.0|            2.0|           2.0|         2.0|             2.0|        2.0|        2.0|            2.0|     1.0|             0.0|          3.0|  0.0|\n",
            "|          1.0|  72.0|        114.85|     8317.95|   1.0|    1.0|       0.0|         0.0|          1.0|            0.0|           1.0|         1.0|             1.0|        1.0|        1.0|            1.0|     1.0|             0.0|          2.0|  0.0|\n",
            "|          0.0|   6.0|         98.15|      567.45|   1.0|    0.0|       0.0|         0.0|          0.0|            0.0|           1.0|         1.0|             1.0|        1.0|        0.0|            1.0|     0.0|             0.0|          2.0|  1.0|\n",
            "|          1.0|  19.0|          34.3|      577.15|   0.0|    1.0|       0.0|         1.0|          2.0|            1.0|           0.0|         1.0|             1.0|        0.0|        0.0|            0.0|     0.0|             0.0|          3.0|  0.0|\n",
            "|          0.0|  61.0|         115.1|     6993.65|   1.0|    0.0|       0.0|         0.0|          1.0|            0.0|           1.0|         1.0|             1.0|        1.0|        1.0|            1.0|     2.0|             0.0|          1.0|  0.0|\n",
            "|          0.0|  15.0|          19.4|       289.3|   1.0|    0.0|       0.0|         0.0|          0.0|            2.0|           2.0|         2.0|             2.0|        2.0|        2.0|            2.0|     0.0|             1.0|          2.0|  1.0|\n",
            "|          0.0|  42.0|          79.9|      3313.4|   0.0|    0.0|       0.0|         0.0|          1.0|            0.0|           0.0|         0.0|             1.0|        0.0|        0.0|            0.0|     0.0|             1.0|          0.0|  0.0|\n",
            "|          0.0|   8.0|          38.5|       330.8|   1.0|    0.0|       1.0|         1.0|          2.0|            1.0|           1.0|         0.0|             0.0|        0.0|        0.0|            1.0|     0.0|             0.0|          0.0|  0.0|\n",
            "|          0.0|  71.0|         85.45|      6029.9|   0.0|    1.0|       1.0|         0.0|          0.0|            1.0|           1.0|         1.0|             1.0|        1.0|        1.0|            1.0|     1.0|             1.0|          2.0|  0.0|\n",
            "|          1.0|  52.0|         106.5|     5621.85|   1.0|    1.0|       0.0|         0.0|          1.0|            0.0|           0.0|         1.0|             1.0|        0.0|        1.0|            1.0|     2.0|             0.0|          0.0|  0.0|\n",
            "|          0.0|  39.0|          30.1|      1131.3|   1.0|    0.0|       1.0|         1.0|          2.0|            1.0|           0.0|         0.0|             1.0|        0.0|        0.0|            0.0|     0.0|             1.0|          3.0|  1.0|\n",
            "|          0.0|  55.0|         100.9|     5552.05|   0.0|    0.0|       0.0|         0.0|          0.0|            0.0|           1.0|         1.0|             0.0|        0.0|        1.0|            1.0|     2.0|             0.0|          1.0|  0.0|\n",
            "|          0.0|  38.0|          20.3|      743.05|   1.0|    0.0|       0.0|         0.0|          0.0|            2.0|           2.0|         2.0|             2.0|        2.0|        2.0|            2.0|     1.0|             1.0|          1.0|  0.0|\n",
            "|          0.0|  24.0|          49.3|     1233.25|   1.0|    0.0|       0.0|         0.0|          0.0|            1.0|           0.0|         0.0|             1.0|        0.0|        0.0|            0.0|     0.0|             0.0|          3.0|  0.0|\n",
            "|          0.0|  33.0|         74.75|      2453.3|   0.0|    1.0|       1.0|         0.0|          0.0|            1.0|           1.0|         0.0|             1.0|        0.0|        1.0|            1.0|     2.0|             1.0|          3.0|  0.0|\n",
            "+-------------+------+--------------+------------+------+-------+----------+------------+-------------+---------------+--------------+------------+----------------+-----------+-----------+---------------+--------+----------------+-------------+-----+\n",
            "only showing top 20 rows\n",
            "\n"
          ]
        }
      ]
    },
    {
      "cell_type": "markdown",
      "source": [
        "### Removing Outlayers"
      ],
      "metadata": {
        "id": "YvlQmM1hbnvf"
      }
    },
    {
      "cell_type": "code",
      "source": [
        "df_before = df\n",
        "\n",
        "for col in df.columns:\n",
        "  df_origin.groupBy(col, 'Label').count().show()"
      ],
      "metadata": {
        "id": "asDqQFzV3TTf",
        "colab": {
          "base_uri": "https://localhost:8080/"
        },
        "outputId": "5a273462-0a61-4d3a-98f4-ae8b84bd7121"
      },
      "execution_count": 13,
      "outputs": [
        {
          "output_type": "stream",
          "name": "stdout",
          "text": [
            "+-------------+-----+-----+\n",
            "|SeniorCitizen|Label|count|\n",
            "+-------------+-----+-----+\n",
            "|         17.0|   No|    1|\n",
            "|         14.0|  Yes|    2|\n",
            "|          1.0|  Yes|  476|\n",
            "|          0.0|   No| 4496|\n",
            "|          1.0|   No|  666|\n",
            "|          0.0|  Yes| 1391|\n",
            "|         14.0|   No|    6|\n",
            "+-------------+-----+-----+\n",
            "\n",
            "+------+-----+-----+\n",
            "|Tenure|Label|count|\n",
            "+------+-----+-----+\n",
            "|  56.0|  Yes|   10|\n",
            "|  48.0|   No|   55|\n",
            "|  33.0|   No|   50|\n",
            "|  57.0|   No|   57|\n",
            "|  66.0|  Yes|   13|\n",
            "|-586.0|   No|    1|\n",
            "|  43.0|  Yes|   15|\n",
            "|  51.0|  Yes|    8|\n",
            "|  62.0|  Yes|    5|\n",
            "|   6.0|  Yes|   40|\n",
            "|  64.0|   No|   76|\n",
            "|  24.0|   No|   71|\n",
            "|  18.0|   No|   73|\n",
            "|  59.0|   No|   52|\n",
            "|  46.0|  Yes|   12|\n",
            "|  22.0|   No|   61|\n",
            "|  37.0|   No|   50|\n",
            "|  60.0|  Yes|    6|\n",
            "|  65.0|  Yes|    9|\n",
            "|-593.0|  Yes|    1|\n",
            "+------+-----+-----+\n",
            "only showing top 20 rows\n",
            "\n",
            "+--------------+-----+-----+\n",
            "|MonthlyCharges|Label|count|\n",
            "+--------------+-----+-----+\n",
            "|         93.85|  Yes|    7|\n",
            "|         54.55|  Yes|    2|\n",
            "|          95.1|  Yes|    3|\n",
            "|          95.2|   No|    3|\n",
            "|        107.45|   No|    4|\n",
            "|        111.35|   No|    1|\n",
            "|          69.9|  Yes|    3|\n",
            "|          84.0|  Yes|    1|\n",
            "|          29.5|   No|    1|\n",
            "|          98.3|  Yes|    2|\n",
            "|         70.25|   No|    3|\n",
            "|        104.95|  Yes|    1|\n",
            "|         102.7|   No|    1|\n",
            "|          59.7|   No|    3|\n",
            "|          85.6|  Yes|    2|\n",
            "|         104.3|   No|    4|\n",
            "|          66.7|   No|    2|\n",
            "|          45.1|  Yes|    3|\n",
            "|          33.7|   No|    1|\n",
            "|          99.1|  Yes|    1|\n",
            "+--------------+-----+-----+\n",
            "only showing top 20 rows\n",
            "\n",
            "+------------+-----+-----+\n",
            "|TotalCharges|Label|count|\n",
            "+------------+-----+-----+\n",
            "|     2234.55|   No|    1|\n",
            "|     4753.85|   No|    1|\n",
            "|      144.55|  Yes|    2|\n",
            "|      1077.5|  Yes|    1|\n",
            "|       553.0|  Yes|    1|\n",
            "|      393.45|   No|    1|\n",
            "|      5737.6|   No|    1|\n",
            "|      2291.2|  Yes|    1|\n",
            "|        69.9|  Yes|    3|\n",
            "|      2847.4|  Yes|    1|\n",
            "|      408.25|   No|    1|\n",
            "|     1621.35|   No|    1|\n",
            "|     5502.55|   No|    1|\n",
            "|     3969.35|  Yes|    1|\n",
            "|      2331.3|  Yes|    1|\n",
            "|      651.55|   No|    1|\n",
            "|      523.15|  Yes|    1|\n",
            "|     5069.65|  Yes|    1|\n",
            "|      6424.7|   No|    1|\n",
            "|       321.7|   No|    1|\n",
            "+------------+-----+-----+\n",
            "only showing top 20 rows\n",
            "\n",
            "+------+-----+-----+\n",
            "|Gender|Label|count|\n",
            "+------+-----+-----+\n",
            "|  Male|   No| 2621|\n",
            "|  Male|  Yes|  930|\n",
            "|Female|   No| 2548|\n",
            "|Female|  Yes|  939|\n",
            "+------+-----+-----+\n",
            "\n",
            "+-------+-----+-----+\n",
            "|Partner|Label|count|\n",
            "+-------+-----+-----+\n",
            "|    Yes|  Yes|  669|\n",
            "|     No|   No| 2443|\n",
            "|    Yes|   No| 2726|\n",
            "|     No|  Yes| 1200|\n",
            "+-------+-----+-----+\n",
            "\n",
            "+----------+-----+-----+\n",
            "|Dependents|Label|count|\n",
            "+----------+-----+-----+\n",
            "|       Yes|  Yes|  326|\n",
            "|        No|   No| 3395|\n",
            "|       Yes|   No| 1774|\n",
            "|        No|  Yes| 1543|\n",
            "+----------+-----+-----+\n",
            "\n",
            "+------------+-----+-----+\n",
            "|PhoneService|Label|count|\n",
            "+------------+-----+-----+\n",
            "|         Yes|  Yes| 1699|\n",
            "|          No|   No|  511|\n",
            "|         Yes|   No| 4658|\n",
            "|          No|  Yes|  170|\n",
            "+------------+-----+-----+\n",
            "\n",
            "+----------------+-----+-----+\n",
            "|   MultipleLines|Label|count|\n",
            "+----------------+-----+-----+\n",
            "|No phone service|   No|  511|\n",
            "|             Yes|  Yes|  850|\n",
            "|              No|   No| 2541|\n",
            "|             Yes|   No| 2117|\n",
            "|No phone service|  Yes|  170|\n",
            "|              No|  Yes|  849|\n",
            "+----------------+-----+-----+\n",
            "\n",
            "+---------------+-----+-----+\n",
            "|InternetService|Label|count|\n",
            "+---------------+-----+-----+\n",
            "|            DSL|  Yes|  459|\n",
            "|    Fiber optic|  Yes| 1297|\n",
            "|             No|   No| 1408|\n",
            "|    Fiber optic|   No| 1801|\n",
            "|             No|  Yes|  113|\n",
            "|            DSL|   No| 1960|\n",
            "+---------------+-----+-----+\n",
            "\n",
            "+-------------------+-----+-----+\n",
            "|     OnlineSecurity|Label|count|\n",
            "+-------------------+-----+-----+\n",
            "|No internet service|   No| 1408|\n",
            "|                Yes|  Yes|  295|\n",
            "|                 No|   No| 2040|\n",
            "|                Yes|   No| 1721|\n",
            "|                 No|  Yes| 1461|\n",
            "|No internet service|  Yes|  113|\n",
            "+-------------------+-----+-----+\n",
            "\n",
            "+-------------------+-----+-----+\n",
            "|       OnlineBackup|Label|count|\n",
            "+-------------------+-----+-----+\n",
            "|No internet service|   No| 1408|\n",
            "|                Yes|  Yes|  523|\n",
            "|                 No|   No| 1857|\n",
            "|                Yes|   No| 1904|\n",
            "|                 No|  Yes| 1233|\n",
            "|No internet service|  Yes|  113|\n",
            "+-------------------+-----+-----+\n",
            "\n",
            "+-------------------+-----+-----+\n",
            "|   DeviceProtection|Label|count|\n",
            "+-------------------+-----+-----+\n",
            "|No internet service|   No| 1408|\n",
            "|                Yes|  Yes|  545|\n",
            "|                 No|   No| 1884|\n",
            "|                Yes|   No| 1877|\n",
            "|                 No|  Yes| 1211|\n",
            "|No internet service|  Yes|  113|\n",
            "+-------------------+-----+-----+\n",
            "\n",
            "+-------------------+-----+-----+\n",
            "|        TechSupport|Label|count|\n",
            "+-------------------+-----+-----+\n",
            "|No internet service|   No| 1408|\n",
            "|                Yes|  Yes|  310|\n",
            "|                 No|   No| 2030|\n",
            "|                Yes|   No| 1731|\n",
            "|                 No|  Yes| 1446|\n",
            "|No internet service|  Yes|  113|\n",
            "+-------------------+-----+-----+\n",
            "\n",
            "+-------------------+-----+-----+\n",
            "|        StreamingTV|Label|count|\n",
            "+-------------------+-----+-----+\n",
            "|No internet service|   No| 1408|\n",
            "|                Yes|  Yes|  814|\n",
            "|                 No|   No| 1870|\n",
            "|                Yes|   No| 1891|\n",
            "|                 No|  Yes|  942|\n",
            "|No internet service|  Yes|  113|\n",
            "+-------------------+-----+-----+\n",
            "\n",
            "+-------------------+-----+-----+\n",
            "|    StreamingMovies|Label|count|\n",
            "+-------------------+-----+-----+\n",
            "|No internet service|   No| 1408|\n",
            "|                Yes|  Yes|  818|\n",
            "|                 No|   No| 1848|\n",
            "|                Yes|   No| 1913|\n",
            "|                 No|  Yes|  938|\n",
            "|No internet service|  Yes|  113|\n",
            "+-------------------+-----+-----+\n",
            "\n",
            "+--------------+-----+-----+\n",
            "|      Contract|Label|count|\n",
            "+--------------+-----+-----+\n",
            "|Month-to-month|   No| 2222|\n",
            "|Month-to-month|  Yes| 1655|\n",
            "|      Two year|  Yes|   48|\n",
            "|      One year|   No| 1310|\n",
            "|      One year|  Yes|  166|\n",
            "|      Two year|   No| 1637|\n",
            "+--------------+-----+-----+\n",
            "\n",
            "+----------------+-----+-----+\n",
            "|PaperlessBilling|Label|count|\n",
            "+----------------+-----+-----+\n",
            "|             Yes|  Yes| 1400|\n",
            "|              No|   No| 2399|\n",
            "|             Yes|   No| 2770|\n",
            "|              No|  Yes|  469|\n",
            "+----------------+-----+-----+\n",
            "\n",
            "+--------------------+-----+-----+\n",
            "|       PaymentMethod|Label|count|\n",
            "+--------------------+-----+-----+\n",
            "|Credit card (auto...|   No| 1292|\n",
            "|Bank transfer (au...|   No| 1286|\n",
            "|        Mailed check|  Yes|  308|\n",
            "|Credit card (auto...|  Yes|  232|\n",
            "|    Electronic check|   No| 1295|\n",
            "|    Electronic check|  Yes| 1071|\n",
            "|Bank transfer (au...|  Yes|  258|\n",
            "|        Mailed check|   No| 1296|\n",
            "+--------------------+-----+-----+\n",
            "\n",
            "+-----+-----+-----+\n",
            "|Label|Label|count|\n",
            "+-----+-----+-----+\n",
            "|   No|   No| 5169|\n",
            "|  Yes|  Yes| 1869|\n",
            "+-----+-----+-----+\n",
            "\n"
          ]
        }
      ]
    },
    {
      "cell_type": "markdown",
      "source": [
        "### Fixing Outlayers"
      ],
      "metadata": {
        "id": "c66TG2cRdGw6"
      }
    },
    {
      "cell_type": "markdown",
      "source": [
        "**Senior Citizen**"
      ],
      "metadata": {
        "id": "73TfkfX0n7wt"
      }
    },
    {
      "cell_type": "code",
      "source": [
        "df = df.withColumn(\"SeniorCitizen\", sf.when(sf.col(\"SeniorCitizen\") >= 1, 1).otherwise(0))\n",
        "df.groupBy(\"SeniorCitizen\", 'Label').count().show()"
      ],
      "metadata": {
        "colab": {
          "base_uri": "https://localhost:8080/"
        },
        "id": "jYR49CMhNa37",
        "outputId": "b8b382bf-1520-45f1-c84e-d3915f085467"
      },
      "execution_count": 14,
      "outputs": [
        {
          "output_type": "stream",
          "name": "stdout",
          "text": [
            "+-------------+-----+-----+\n",
            "|SeniorCitizen|Label|count|\n",
            "+-------------+-----+-----+\n",
            "|            1|  0.0|  673|\n",
            "|            0|  0.0| 4496|\n",
            "|            1|  1.0|  478|\n",
            "|            0|  1.0| 1391|\n",
            "+-------------+-----+-----+\n",
            "\n"
          ]
        }
      ]
    },
    {
      "cell_type": "markdown",
      "source": [
        "**Tenure**"
      ],
      "metadata": {
        "id": "GkB_lHBQoDEX"
      }
    },
    {
      "cell_type": "code",
      "source": [
        "plt.boxplot(get_list_of(\"Tenure\"))\n",
        "plt.show()"
      ],
      "metadata": {
        "colab": {
          "base_uri": "https://localhost:8080/",
          "height": 430
        },
        "id": "kBUAtgi3oHXz",
        "outputId": "cde3279d-6af7-4633-cc1b-213fe58f8699"
      },
      "execution_count": 15,
      "outputs": [
        {
          "output_type": "display_data",
          "data": {
            "text/plain": [
              "<Figure size 1008x504 with 1 Axes>"
            ],
            "image/png": "[encoded data removed]"
          },
          "metadata": {
            "needs_background": "light"
          }
        }
      ]
    },
    {
      "cell_type": "code",
      "source": [
        "df = df.withColumn(\"Tenure\", sf.when(sf.col(\"Tenure\") < 0, 1).otherwise(df.Tenure))\n",
        "plt.boxplot(get_list_of(\"Tenure\"))\n",
        "plt.show()"
      ],
      "metadata": {
        "colab": {
          "base_uri": "https://localhost:8080/",
          "height": 428
        },
        "id": "5aLCuJA2aMVs",
        "outputId": "816717a2-6965-4162-a3f4-c126364f008a"
      },
      "execution_count": 16,
      "outputs": [
        {
          "output_type": "display_data",
          "data": {
            "text/plain": [
              "<Figure size 1008x504 with 1 Axes>"
            ],
            "image/png": "[encoded data removed]"
          },
          "metadata": {
            "needs_background": "light"
          }
        }
      ]
    },
    {
      "cell_type": "markdown",
      "source": [
        "**Monthly Charges**"
      ],
      "metadata": {
        "id": "iiiY5PEGpwVH"
      }
    },
    {
      "cell_type": "code",
      "source": [
        "plt.boxplot(get_list_of(\"MonthlyCharges\"))\n",
        "plt.show()"
      ],
      "metadata": {
        "colab": {
          "base_uri": "https://localhost:8080/",
          "height": 428
        },
        "id": "D2BrFW75pvcz",
        "outputId": "cf5e1a8e-2d55-437b-e364-fd9c88a30e4c"
      },
      "execution_count": 17,
      "outputs": [
        {
          "output_type": "display_data",
          "data": {
            "text/plain": [
              "<Figure size 1008x504 with 1 Axes>"
            ],
            "image/png": "[encoded data removed]"
          },
          "metadata": {
            "needs_background": "light"
          }
        }
      ]
    },
    {
      "cell_type": "code",
      "source": [
        "df = df.withColumn(\"MonthlyCharges\", sf.when(sf.col(\"MonthlyCharges\") >= 150, 200).otherwise(df.MonthlyCharges))\n",
        "plt.boxplot(get_list_of(\"MonthlyCharges\"))\n",
        "plt.show()"
      ],
      "metadata": {
        "colab": {
          "base_uri": "https://localhost:8080/",
          "height": 428
        },
        "id": "FcQvEIdJmh9N",
        "outputId": "2f536dfc-f6de-47aa-a2bb-6cd11f63f856"
      },
      "execution_count": 18,
      "outputs": [
        {
          "output_type": "display_data",
          "data": {
            "text/plain": [
              "<Figure size 1008x504 with 1 Axes>"
            ],
            "image/png": "[encoded data removed]"
          },
          "metadata": {
            "needs_background": "light"
          }
        }
      ]
    },
    {
      "cell_type": "markdown",
      "source": [
        "### Calculating Correlation between each Feature and Label"
      ],
      "metadata": {
        "id": "ge8b3e5zf-N9"
      }
    },
    {
      "cell_type": "code",
      "source": [
        "corr_data = [(col, df.stat.corr(col, \"Label\")) for col in df.drop(\"Label\").columns]\n",
        "spark.createDataFrame(data=corr_data, schema=[\"Feature\", \"CorrelationWithLabel\"]).show()"
      ],
      "metadata": {
        "colab": {
          "base_uri": "https://localhost:8080/"
        },
        "id": "WZBYMNbYeP0q",
        "outputId": "3523cec9-836d-41b2-87eb-5cf9eea5df72"
      },
      "execution_count": 19,
      "outputs": [
        {
          "output_type": "stream",
          "name": "stdout",
          "text": [
            "+----------------+--------------------+\n",
            "|         Feature|CorrelationWithLabel|\n",
            "+----------------+--------------------+\n",
            "|   SeniorCitizen|   0.149916181595582|\n",
            "|          Tenure|-0.35287991034498983|\n",
            "|  MonthlyCharges| 0.18960681554936978|\n",
            "|    TotalCharges|-0.19935232824570887|\n",
            "|          Gender|0.008363964520041007|\n",
            "|         Partner|-0.14974315544732092|\n",
            "|      Dependents|-0.16290367899633013|\n",
            "|    PhoneService|-0.01180271700716...|\n",
            "|   MultipleLines|  0.0198141524680262|\n",
            "| InternetService|-0.31623331275192157|\n",
            "|  OnlineSecurity| -0.3321101128837582|\n",
            "|    OnlineBackup|  -0.290813408175529|\n",
            "|DeviceProtection| -0.2810766901842196|\n",
            "|     TechSupport| -0.3291393374369222|\n",
            "|     StreamingTV| -0.2050263376746268|\n",
            "| StreamingMovies|-0.20666935906904116|\n",
            "|        Contract|  -0.341280370375004|\n",
            "|PaperlessBilling| -0.1915975504045214|\n",
            "|   PaymentMethod|-0.26309882911077653|\n",
            "+----------------+--------------------+\n",
            "\n"
          ]
        }
      ]
    },
    {
      "cell_type": "code",
      "source": [
        "df.stat.corr(\"MonthlyCharges\", \"TotalCharges\")\n",
        "# high correlation, so we remove MonthlyCharges cuz Total Charges are a better overal feature"
      ],
      "metadata": {
        "colab": {
          "base_uri": "https://localhost:8080/"
        },
        "id": "1xR-ctn-sVlR",
        "outputId": "1371c6aa-a4e6-48ee-83c5-b44ca8187bcf"
      },
      "execution_count": 20,
      "outputs": [
        {
          "output_type": "execute_result",
          "data": {
            "text/plain": [
              "0.6350169484783788"
            ]
          },
          "metadata": {},
          "execution_count": 20
        }
      ]
    },
    {
      "cell_type": "code",
      "source": [
        "# Removing features having correlation less than +-0.1 with Label\n",
        "df = df.drop(\"MonthlyCharges\", \"Gender\", \"PhoneService\", \"MultipleLines\")"
      ],
      "metadata": {
        "id": "zkCEwUoYiCoK"
      },
      "execution_count": 21,
      "outputs": []
    },
    {
      "cell_type": "markdown",
      "source": [
        "### One-Hot Encoding Categorical Features"
      ],
      "metadata": {
        "id": "AAuX4p9J-wVa"
      }
    },
    {
      "cell_type": "code",
      "source": [
        "cat_cols = list(set(cat_cols).intersection(set(df.columns))) + [\"SeniorCitizen\"]\n",
        "cat_cols.remove(\"Label\")"
      ],
      "metadata": {
        "id": "HMVgMhxo-vl0"
      },
      "execution_count": 22,
      "outputs": []
    },
    {
      "cell_type": "code",
      "source": [
        "df.show()"
      ],
      "metadata": {
        "colab": {
          "base_uri": "https://localhost:8080/"
        },
        "id": "Qlb_KA_jAu58",
        "outputId": "ab52ed2f-fabc-447d-830e-bac6b90dc95a"
      },
      "execution_count": 23,
      "outputs": [
        {
          "output_type": "stream",
          "name": "stdout",
          "text": [
            "+-------------+------+------------+-------+----------+---------------+--------------+------------+----------------+-----------+-----------+---------------+--------+----------------+-------------+-----+\n",
            "|SeniorCitizen|Tenure|TotalCharges|Partner|Dependents|InternetService|OnlineSecurity|OnlineBackup|DeviceProtection|TechSupport|StreamingTV|StreamingMovies|Contract|PaperlessBilling|PaymentMethod|Label|\n",
            "+-------------+------+------------+-------+----------+---------------+--------------+------------+----------------+-----------+-----------+---------------+--------+----------------+-------------+-----+\n",
            "|            0|  69.0|     7895.15|    1.0|       1.0|            0.0|           1.0|         1.0|             1.0|        1.0|        1.0|            1.0|     1.0|             1.0|          3.0|  0.0|\n",
            "|            0|  60.0|      1128.1|    0.0|       0.0|            2.0|           2.0|         2.0|             2.0|        2.0|        2.0|            2.0|     1.0|             1.0|          2.0|  0.0|\n",
            "|            1|  34.0|     3217.55|    1.0|       0.0|            0.0|           0.0|         1.0|             1.0|        0.0|        0.0|            1.0|     0.0|             0.0|          0.0|  1.0|\n",
            "|            0|  43.0|      2499.3|    1.0|       1.0|            1.0|           0.0|         0.0|             0.0|        0.0|        1.0|            0.0|     0.0|             1.0|          0.0|  1.0|\n",
            "|            1|  66.0|     6891.45|    1.0|       1.0|            0.0|           0.0|         1.0|             1.0|        0.0|        1.0|            1.0|     2.0|             0.0|          0.0|  0.0|\n",
            "|            0|  70.0|      1411.2|    1.0|       1.0|            2.0|           2.0|         2.0|             2.0|        2.0|        2.0|            2.0|     1.0|             0.0|          3.0|  0.0|\n",
            "|            1|  72.0|     8317.95|    1.0|       0.0|            0.0|           1.0|         1.0|             1.0|        1.0|        1.0|            1.0|     1.0|             0.0|          2.0|  0.0|\n",
            "|            0|   6.0|      567.45|    0.0|       0.0|            0.0|           1.0|         1.0|             1.0|        1.0|        0.0|            1.0|     0.0|             0.0|          2.0|  1.0|\n",
            "|            1|  19.0|      577.15|    1.0|       0.0|            1.0|           0.0|         1.0|             1.0|        0.0|        0.0|            0.0|     0.0|             0.0|          3.0|  0.0|\n",
            "|            0|  61.0|     6993.65|    0.0|       0.0|            0.0|           1.0|         1.0|             1.0|        1.0|        1.0|            1.0|     2.0|             0.0|          1.0|  0.0|\n",
            "|            0|  15.0|       289.3|    0.0|       0.0|            2.0|           2.0|         2.0|             2.0|        2.0|        2.0|            2.0|     0.0|             1.0|          2.0|  1.0|\n",
            "|            0|  42.0|      3313.4|    0.0|       0.0|            0.0|           0.0|         0.0|             1.0|        0.0|        0.0|            0.0|     0.0|             1.0|          0.0|  0.0|\n",
            "|            0|   8.0|       330.8|    0.0|       1.0|            1.0|           1.0|         0.0|             0.0|        0.0|        0.0|            1.0|     0.0|             0.0|          0.0|  0.0|\n",
            "|            0|  71.0|      6029.9|    1.0|       1.0|            1.0|           1.0|         1.0|             1.0|        1.0|        1.0|            1.0|     1.0|             1.0|          2.0|  0.0|\n",
            "|            1|  52.0|     5621.85|    1.0|       0.0|            0.0|           0.0|         1.0|             1.0|        0.0|        1.0|            1.0|     2.0|             0.0|          0.0|  0.0|\n",
            "|            0|  39.0|      1131.3|    0.0|       1.0|            1.0|           0.0|         0.0|             1.0|        0.0|        0.0|            0.0|     0.0|             1.0|          3.0|  1.0|\n",
            "|            0|  55.0|     5552.05|    0.0|       0.0|            0.0|           1.0|         1.0|             0.0|        0.0|        1.0|            1.0|     2.0|             0.0|          1.0|  0.0|\n",
            "|            0|  38.0|      743.05|    0.0|       0.0|            2.0|           2.0|         2.0|             2.0|        2.0|        2.0|            2.0|     1.0|             1.0|          1.0|  0.0|\n",
            "|            0|  24.0|     1233.25|    0.0|       0.0|            1.0|           0.0|         0.0|             1.0|        0.0|        0.0|            0.0|     0.0|             0.0|          3.0|  0.0|\n",
            "|            0|  33.0|      2453.3|    1.0|       1.0|            1.0|           1.0|         0.0|             1.0|        0.0|        1.0|            1.0|     2.0|             1.0|          3.0|  0.0|\n",
            "+-------------+------+------------+-------+----------+---------------+--------------+------------+----------------+-----------+-----------+---------------+--------+----------------+-------------+-----+\n",
            "only showing top 20 rows\n",
            "\n"
          ]
        }
      ]
    },
    {
      "cell_type": "code",
      "source": [
        "encoder = OneHotEncoder(inputCols=cat_cols, outputCols=[col + \"Hot\" for col in cat_cols])\n",
        "df = encoder.fit(df).transform(df).drop(*cat_cols)\n",
        "df = df.select([sf.col(col).alias(col.replace(\"Hot\", \"\")) for col in df.columns])\n",
        "df.show()"
      ],
      "metadata": {
        "colab": {
          "base_uri": "https://localhost:8080/"
        },
        "id": "tMROMTvB_l_F",
        "outputId": "e5def92f-ddd5-4039-c095-3f35a425c6f5"
      },
      "execution_count": 24,
      "outputs": [
        {
          "output_type": "stream",
          "name": "stdout",
          "text": [
            "+------+------------+-----+-------------+-------------+-------------+-------------+---------------+----------------+----------------+-------------+-------------+-------------+---------------+--------------+-------------+\n",
            "|Tenure|TotalCharges|Label|PaymentMethod|     Contract|  TechSupport|      Partner|InternetService|DeviceProtection|PaperlessBilling|  StreamingTV| OnlineBackup|   Dependents|StreamingMovies|OnlineSecurity|SeniorCitizen|\n",
            "+------+------------+-----+-------------+-------------+-------------+-------------+---------------+----------------+----------------+-------------+-------------+-------------+---------------+--------------+-------------+\n",
            "|  69.0|     7895.15|  0.0|    (3,[],[])|(2,[1],[1.0])|(2,[1],[1.0])|    (1,[],[])|  (2,[0],[1.0])|   (2,[1],[1.0])|       (1,[],[])|(2,[1],[1.0])|(2,[1],[1.0])|    (1,[],[])|  (2,[1],[1.0])| (2,[1],[1.0])|(1,[0],[1.0])|\n",
            "|  60.0|      1128.1|  0.0|(3,[2],[1.0])|(2,[1],[1.0])|    (2,[],[])|(1,[0],[1.0])|      (2,[],[])|       (2,[],[])|       (1,[],[])|    (2,[],[])|    (2,[],[])|(1,[0],[1.0])|      (2,[],[])|     (2,[],[])|(1,[0],[1.0])|\n",
            "|  34.0|     3217.55|  1.0|(3,[0],[1.0])|(2,[0],[1.0])|(2,[0],[1.0])|    (1,[],[])|  (2,[0],[1.0])|   (2,[1],[1.0])|   (1,[0],[1.0])|(2,[0],[1.0])|(2,[1],[1.0])|(1,[0],[1.0])|  (2,[1],[1.0])| (2,[0],[1.0])|    (1,[],[])|\n",
            "|  43.0|      2499.3|  1.0|(3,[0],[1.0])|(2,[0],[1.0])|(2,[0],[1.0])|    (1,[],[])|  (2,[1],[1.0])|   (2,[0],[1.0])|       (1,[],[])|(2,[1],[1.0])|(2,[0],[1.0])|    (1,[],[])|  (2,[0],[1.0])| (2,[0],[1.0])|(1,[0],[1.0])|\n",
            "|  66.0|     6891.45|  0.0|(3,[0],[1.0])|    (2,[],[])|(2,[0],[1.0])|    (1,[],[])|  (2,[0],[1.0])|   (2,[1],[1.0])|   (1,[0],[1.0])|(2,[1],[1.0])|(2,[1],[1.0])|    (1,[],[])|  (2,[1],[1.0])| (2,[0],[1.0])|    (1,[],[])|\n",
            "|  70.0|      1411.2|  0.0|    (3,[],[])|(2,[1],[1.0])|    (2,[],[])|    (1,[],[])|      (2,[],[])|       (2,[],[])|   (1,[0],[1.0])|    (2,[],[])|    (2,[],[])|    (1,[],[])|      (2,[],[])|     (2,[],[])|(1,[0],[1.0])|\n",
            "|  72.0|     8317.95|  0.0|(3,[2],[1.0])|(2,[1],[1.0])|(2,[1],[1.0])|    (1,[],[])|  (2,[0],[1.0])|   (2,[1],[1.0])|   (1,[0],[1.0])|(2,[1],[1.0])|(2,[1],[1.0])|(1,[0],[1.0])|  (2,[1],[1.0])| (2,[1],[1.0])|    (1,[],[])|\n",
            "|   6.0|      567.45|  1.0|(3,[2],[1.0])|(2,[0],[1.0])|(2,[1],[1.0])|(1,[0],[1.0])|  (2,[0],[1.0])|   (2,[1],[1.0])|   (1,[0],[1.0])|(2,[0],[1.0])|(2,[1],[1.0])|(1,[0],[1.0])|  (2,[1],[1.0])| (2,[1],[1.0])|(1,[0],[1.0])|\n",
            "|  19.0|      577.15|  0.0|    (3,[],[])|(2,[0],[1.0])|(2,[0],[1.0])|    (1,[],[])|  (2,[1],[1.0])|   (2,[1],[1.0])|   (1,[0],[1.0])|(2,[0],[1.0])|(2,[1],[1.0])|(1,[0],[1.0])|  (2,[0],[1.0])| (2,[0],[1.0])|    (1,[],[])|\n",
            "|  61.0|     6993.65|  0.0|(3,[1],[1.0])|    (2,[],[])|(2,[1],[1.0])|(1,[0],[1.0])|  (2,[0],[1.0])|   (2,[1],[1.0])|   (1,[0],[1.0])|(2,[1],[1.0])|(2,[1],[1.0])|(1,[0],[1.0])|  (2,[1],[1.0])| (2,[1],[1.0])|(1,[0],[1.0])|\n",
            "|  15.0|       289.3|  1.0|(3,[2],[1.0])|(2,[0],[1.0])|    (2,[],[])|(1,[0],[1.0])|      (2,[],[])|       (2,[],[])|       (1,[],[])|    (2,[],[])|    (2,[],[])|(1,[0],[1.0])|      (2,[],[])|     (2,[],[])|(1,[0],[1.0])|\n",
            "|  42.0|      3313.4|  0.0|(3,[0],[1.0])|(2,[0],[1.0])|(2,[0],[1.0])|(1,[0],[1.0])|  (2,[0],[1.0])|   (2,[1],[1.0])|       (1,[],[])|(2,[0],[1.0])|(2,[0],[1.0])|(1,[0],[1.0])|  (2,[0],[1.0])| (2,[0],[1.0])|(1,[0],[1.0])|\n",
            "|   8.0|       330.8|  0.0|(3,[0],[1.0])|(2,[0],[1.0])|(2,[0],[1.0])|(1,[0],[1.0])|  (2,[1],[1.0])|   (2,[0],[1.0])|   (1,[0],[1.0])|(2,[0],[1.0])|(2,[0],[1.0])|    (1,[],[])|  (2,[1],[1.0])| (2,[1],[1.0])|(1,[0],[1.0])|\n",
            "|  71.0|      6029.9|  0.0|(3,[2],[1.0])|(2,[1],[1.0])|(2,[1],[1.0])|    (1,[],[])|  (2,[1],[1.0])|   (2,[1],[1.0])|       (1,[],[])|(2,[1],[1.0])|(2,[1],[1.0])|    (1,[],[])|  (2,[1],[1.0])| (2,[1],[1.0])|(1,[0],[1.0])|\n",
            "|  52.0|     5621.85|  0.0|(3,[0],[1.0])|    (2,[],[])|(2,[0],[1.0])|    (1,[],[])|  (2,[0],[1.0])|   (2,[1],[1.0])|   (1,[0],[1.0])|(2,[1],[1.0])|(2,[1],[1.0])|(1,[0],[1.0])|  (2,[1],[1.0])| (2,[0],[1.0])|    (1,[],[])|\n",
            "|  39.0|      1131.3|  1.0|    (3,[],[])|(2,[0],[1.0])|(2,[0],[1.0])|(1,[0],[1.0])|  (2,[1],[1.0])|   (2,[1],[1.0])|       (1,[],[])|(2,[0],[1.0])|(2,[0],[1.0])|    (1,[],[])|  (2,[0],[1.0])| (2,[0],[1.0])|(1,[0],[1.0])|\n",
            "|  55.0|     5552.05|  0.0|(3,[1],[1.0])|    (2,[],[])|(2,[0],[1.0])|(1,[0],[1.0])|  (2,[0],[1.0])|   (2,[0],[1.0])|   (1,[0],[1.0])|(2,[1],[1.0])|(2,[1],[1.0])|(1,[0],[1.0])|  (2,[1],[1.0])| (2,[1],[1.0])|(1,[0],[1.0])|\n",
            "|  38.0|      743.05|  0.0|(3,[1],[1.0])|(2,[1],[1.0])|    (2,[],[])|(1,[0],[1.0])|      (2,[],[])|       (2,[],[])|       (1,[],[])|    (2,[],[])|    (2,[],[])|(1,[0],[1.0])|      (2,[],[])|     (2,[],[])|(1,[0],[1.0])|\n",
            "|  24.0|     1233.25|  0.0|    (3,[],[])|(2,[0],[1.0])|(2,[0],[1.0])|(1,[0],[1.0])|  (2,[1],[1.0])|   (2,[1],[1.0])|   (1,[0],[1.0])|(2,[0],[1.0])|(2,[0],[1.0])|(1,[0],[1.0])|  (2,[0],[1.0])| (2,[0],[1.0])|(1,[0],[1.0])|\n",
            "|  33.0|      2453.3|  0.0|    (3,[],[])|    (2,[],[])|(2,[0],[1.0])|    (1,[],[])|  (2,[1],[1.0])|   (2,[1],[1.0])|       (1,[],[])|(2,[1],[1.0])|(2,[0],[1.0])|    (1,[],[])|  (2,[1],[1.0])| (2,[1],[1.0])|(1,[0],[1.0])|\n",
            "+------+------------+-----+-------------+-------------+-------------+-------------+---------------+----------------+----------------+-------------+-------------+-------------+---------------+--------------+-------------+\n",
            "only showing top 20 rows\n",
            "\n"
          ]
        }
      ]
    },
    {
      "cell_type": "code",
      "source": [
        "print(\"Final Features Count:\", len(df.columns) - 1)"
      ],
      "metadata": {
        "colab": {
          "base_uri": "https://localhost:8080/"
        },
        "id": "5GpDM6c-jPYH",
        "outputId": "44cb133a-1585-492a-a873-fd86c976fda7"
      },
      "execution_count": 25,
      "outputs": [
        {
          "output_type": "stream",
          "name": "stdout",
          "text": [
            "Final Features Count: 15\n"
          ]
        }
      ]
    },
    {
      "cell_type": "markdown",
      "source": [
        "# Model"
      ],
      "metadata": {
        "id": "1G-uufMVEsWR"
      }
    },
    {
      "cell_type": "markdown",
      "source": [
        "## Creating Features Vector"
      ],
      "metadata": {
        "id": "CvL7jA7tLXfp"
      }
    },
    {
      "cell_type": "code",
      "source": [
        "assembler_cols = df.columns\n",
        "assembler_cols.remove(\"Label\")\n",
        "vector_assembler = VectorAssembler(inputCols=assembler_cols, outputCol=\"Features\")\n",
        "model_df_before = vector_assembler.transform(df_before).select(sf.col(\"Features\").alias(\"features\"), sf.col(\"Label\").alias(\"label\"))\n",
        "model_df_before.show()"
      ],
      "metadata": {
        "colab": {
          "base_uri": "https://localhost:8080/"
        },
        "id": "l0m_onodMkQS",
        "outputId": "bd852769-5c3f-4588-a4cc-40fe411b8f52"
      },
      "execution_count": 46,
      "outputs": [
        {
          "output_type": "stream",
          "name": "stdout",
          "text": [
            "+--------------------+-----+\n",
            "|            features|label|\n",
            "+--------------------+-----+\n",
            "|[69.0,7895.15,3.0...|  0.0|\n",
            "|[60.0,1128.1,2.0,...|  0.0|\n",
            "|(15,[0,1,5,7,10,1...|  1.0|\n",
            "|(15,[0,1,5,6,8,9,...|  1.0|\n",
            "|[66.0,6891.45,0.0...|  0.0|\n",
            "|[70.0,1411.2,3.0,...|  0.0|\n",
            "|[72.0,8317.95,2.0...|  0.0|\n",
            "|(15,[0,1,2,4,7,10...|  1.0|\n",
            "|(15,[0,1,2,5,6,7,...|  0.0|\n",
            "|[61.0,6993.65,1.0...|  0.0|\n",
            "|[15.0,289.3,2.0,0...|  1.0|\n",
            "|(15,[0,1,7,8],[42...|  0.0|\n",
            "|(15,[0,1,6,11,12,...|  0.0|\n",
            "|[71.0,6029.9,2.0,...|  0.0|\n",
            "|[52.0,5621.85,0.0...|  0.0|\n",
            "|(15,[0,1,2,6,7,8,...|  1.0|\n",
            "|(15,[0,1,2,3,9,10...|  0.0|\n",
            "|[38.0,743.05,1.0,...|  0.0|\n",
            "|(15,[0,1,2,6,7],[...|  0.0|\n",
            "|[33.0,2453.3,3.0,...|  0.0|\n",
            "+--------------------+-----+\n",
            "only showing top 20 rows\n",
            "\n"
          ]
        }
      ]
    },
    {
      "cell_type": "code",
      "source": [
        "assembler_cols = df.columns\n",
        "assembler_cols.remove(\"Label\")\n",
        "vector_assembler = VectorAssembler(inputCols=assembler_cols, outputCol=\"Features\")\n",
        "model_df = vector_assembler.transform(df).select(sf.col(\"Features\").alias(\"features\"), sf.col(\"Label\").alias(\"label\"))\n",
        "model_df.show()"
      ],
      "metadata": {
        "colab": {
          "base_uri": "https://localhost:8080/"
        },
        "id": "iheLo7zyEf8K",
        "outputId": "92703f6d-b6ed-49fc-8bac-11e257eea8e5"
      },
      "execution_count": 47,
      "outputs": [
        {
          "output_type": "stream",
          "name": "stdout",
          "text": [
            "+--------------------+-----+\n",
            "|            features|label|\n",
            "+--------------------+-----+\n",
            "|(25,[0,1,6,8,10,1...|  0.0|\n",
            "|(25,[0,1,4,6,9,19...|  0.0|\n",
            "|(25,[0,1,2,5,7,10...|  1.0|\n",
            "|(25,[0,1,2,5,7,11...|  1.0|\n",
            "|(25,[0,1,2,7,10,1...|  0.0|\n",
            "|(25,[0,1,6,14,24]...|  0.0|\n",
            "|(25,[0,1,4,6,8,10...|  0.0|\n",
            "|(25,[0,1,4,5,8,9,...|  1.0|\n",
            "|(25,[0,1,5,7,11,1...|  0.0|\n",
            "|(25,[0,1,3,8,9,10...|  0.0|\n",
            "|(25,[0,1,4,5,9,19...|  1.0|\n",
            "|(25,[0,1,2,5,7,9,...|  0.0|\n",
            "|(25,[0,1,2,5,7,9,...|  0.0|\n",
            "|(25,[0,1,4,6,8,11...|  0.0|\n",
            "|(25,[0,1,2,7,10,1...|  0.0|\n",
            "|(25,[0,1,5,7,9,11...|  1.0|\n",
            "|(25,[0,1,3,7,9,10...|  0.0|\n",
            "|(25,[0,1,3,6,9,19...|  0.0|\n",
            "|(25,[0,1,5,7,9,11...|  0.0|\n",
            "|(25,[0,1,7,11,13,...|  0.0|\n",
            "+--------------------+-----+\n",
            "only showing top 20 rows\n",
            "\n"
          ]
        }
      ]
    },
    {
      "cell_type": "markdown",
      "source": [
        "## Spliting Data for Train & Test"
      ],
      "metadata": {
        "id": "t1VAYpJ3LWko"
      }
    },
    {
      "cell_type": "code",
      "source": [
        "train_before, test_before = model_df_before.randomSplit(weights=[0.8,0.2], seed=444)\n",
        "train, test = model_df.randomSplit(weights=[0.8,0.2], seed=444)"
      ],
      "metadata": {
        "id": "xOGuKJUxLFU5"
      },
      "execution_count": 48,
      "outputs": []
    },
    {
      "cell_type": "markdown",
      "source": [
        "## Creating and Training Models (before PreProcessing and after PreProcessing)"
      ],
      "metadata": {
        "id": "MbJXtsqGLrsx"
      }
    },
    {
      "cell_type": "code",
      "source": [
        "LR = LogisticRegression(maxIter=100, regParam=0.01)\n",
        "LR.explainParams()"
      ],
      "metadata": {
        "colab": {
          "base_uri": "https://localhost:8080/",
          "height": 122
        },
        "id": "7qSxKqH7LwMc",
        "outputId": "a88101be-bf82-4534-f7d9-00a72de5616e"
      },
      "execution_count": 54,
      "outputs": [
        {
          "output_type": "execute_result",
          "data": {
            "text/plain": [
              "\"aggregationDepth: suggested depth for treeAggregate (>= 2). (default: 2)\\nelasticNetParam: the ElasticNet mixing parameter, in range [0, 1]. For alpha = 0, the penalty is an L2 penalty. For alpha = 1, it is an L1 penalty. (default: 0.0)\\nfamily: The name of family which is a description of the label distribution to be used in the model. Supported options: auto, binomial, multinomial (default: auto)\\nfeaturesCol: features column name. (default: features)\\nfitIntercept: whether to fit an intercept term. (default: True)\\nlabelCol: label column name. (default: label)\\nlowerBoundsOnCoefficients: The lower bounds on coefficients if fitting under bound constrained optimization. The bound matrix must be compatible with the shape (1, number of features) for binomial regression, or (number of classes, number of features) for multinomial regression. (undefined)\\nlowerBoundsOnIntercepts: The lower bounds on intercepts if fitting under bound constrained optimization. The bounds vector size must beequal with 1 for binomial regression, or the number oflasses for multinomial regression. (undefined)\\nmaxBlockSizeInMB: maximum memory in MB for stacking input data into blocks. Data is stacked within partitions. If more than remaining data size in a partition then it is adjusted to the data size. Default 0.0 represents choosing optimal value, depends on specific algorithm. Must be >= 0. (default: 0.0)\\nmaxIter: max number of iterations (>= 0). (default: 100, current: 100)\\npredictionCol: prediction column name. (default: prediction)\\nprobabilityCol: Column name for predicted class conditional probabilities. Note: Not all models output well-calibrated probability estimates! These probabilities should be treated as confidences, not precise probabilities. (default: probability)\\nrawPredictionCol: raw prediction (a.k.a. confidence) column name. (default: rawPrediction)\\nregParam: regularization parameter (>= 0). (default: 0.0, current: 0.01)\\nstandardization: whether to standardize the training features before fitting the model. (default: True)\\nthreshold: Threshold in binary classification prediction, in range [0, 1]. If threshold and thresholds are both set, they must match.e.g. if threshold is p, then thresholds must be equal to [1-p, p]. (default: 0.5)\\nthresholds: Thresholds in multi-class classification to adjust the probability of predicting each class. Array must have length equal to the number of classes, with values > 0, excepting that at most one value may be 0. The class with largest value p/t is predicted, where p is the original probability of that class and t is the class's threshold. (undefined)\\ntol: the convergence tolerance for iterative algorithms (>= 0). (default: 1e-06)\\nupperBoundsOnCoefficients: The upper bounds on coefficients if fitting under bound constrained optimization. The bound matrix must be compatible with the shape (1, number of features) for binomial regression, or (number of classes, number of features) for multinomial regression. (undefined)\\nupperBoundsOnIntercepts: The upper bounds on intercepts if fitting under bound constrained optimization. The bound vector size must be equal with 1 for binomial regression, or the number of classes for multinomial regression. (undefined)\\nweightCol: weight column name. If this is not set or empty, we treat all instance weights as 1.0. (undefined)\""
            ],
            "application/vnd.google.colaboratory.intrinsic+json": {
              "type": "string"
            }
          },
          "metadata": {},
          "execution_count": 54
        }
      ]
    },
    {
      "cell_type": "code",
      "source": [
        "model_before = LR.fit(train_before)\n",
        "predection_before = model_before.transform(test_before)\n",
        "predection_before.show()"
      ],
      "metadata": {
        "colab": {
          "base_uri": "https://localhost:8080/"
        },
        "id": "E4qqaQ3bMDmh",
        "outputId": "b67331c8-469b-4a78-95bf-09c4c292a633"
      },
      "execution_count": 55,
      "outputs": [
        {
          "output_type": "stream",
          "name": "stdout",
          "text": [
            "+--------------------+-----+--------------------+--------------------+----------+\n",
            "|            features|label|       rawPrediction|         probability|prediction|\n",
            "+--------------------+-----+--------------------+--------------------+----------+\n",
            "|(15,[0,1],[1.0,69...|  1.0|[-0.8453261370499...|[0.30041422511409...|       1.0|\n",
            "|(15,[0,1],[1.0,69...|  1.0|[-0.8452390538132...|[0.30043252732578...|       1.0|\n",
            "|(15,[0,1],[1.0,69...|  1.0|[-0.8451955121948...|[0.30044167867018...|       1.0|\n",
            "|(15,[0,1],[1.0,69...|  1.0|[-0.8451519705764...|[0.30045083017362...|       1.0|\n",
            "|(15,[0,1],[1.0,69...|  1.0|[-0.8451374567036...|[0.30045388071011...|       1.0|\n",
            "|(15,[0,1],[1.0,69...|  1.0|[-0.8451229428309...|[0.30045693126427...|       1.0|\n",
            "|(15,[0,1],[1.0,70...|  0.0|[-0.8449923179758...|[0.30048438704680...|       1.0|\n",
            "|(15,[0,1],[1.0,74...|  1.0|[-0.8437876665344...|[0.30073765781604...|       1.0|\n",
            "|(15,[0,1],[1.0,74...|  1.0|[-0.8436570416793...|[0.30076512822209...|       1.0|\n",
            "|(15,[0,1],[1.0,75...|  1.0|[-0.8435119029514...|[0.30079565257248...|       1.0|\n",
            "|(15,[0,1],[2.0,11...|  1.0|[-0.8296982898852...|[0.30370886897249...|       1.0|\n",
            "|(15,[0,1],[2.0,13...|  0.0|[-0.8243136430810...|[0.30484876117597...|       1.0|\n",
            "|(15,[0,1],[2.0,14...|  1.0|[-0.8219478818166...|[0.30535033515921...|       1.0|\n",
            "|(15,[0,1],[2.0,14...|  0.0|[-0.8209899662126...|[0.30555355795945...|       1.0|\n",
            "|(15,[0,1],[3.0,19...|  0.0|[-0.8053330913024...|[0.30888587626183...|       1.0|\n",
            "|(15,[0,1],[7.0,56...|  0.0|[-0.6903830802620...|[0.33394786055518...|       1.0|\n",
            "|(15,[0,1],[9.0,59...|  0.0|[-0.6770229910799...|[0.33692606368961...|       1.0|\n",
            "|(15,[0,1],[17.0,1...|  1.0|[-0.5035238786519...|[0.37671290229775...|       1.0|\n",
            "|(15,[0,1],[18.0,1...|  0.0|[-0.4716985494562...|[0.38421429860400...|       1.0|\n",
            "|(15,[0,1],[21.0,1...|  0.0|[-0.3758742289224...|[0.40712236701502...|       1.0|\n",
            "+--------------------+-----+--------------------+--------------------+----------+\n",
            "only showing top 20 rows\n",
            "\n"
          ]
        }
      ]
    },
    {
      "cell_type": "code",
      "source": [
        "model = LR.fit(train)\n",
        "predection = model.transform(test)\n",
        "predection.show()"
      ],
      "metadata": {
        "colab": {
          "base_uri": "https://localhost:8080/"
        },
        "id": "QpV7JfhyNWBB",
        "outputId": "311a6a4a-0e01-475e-863c-02db377a65fa"
      },
      "execution_count": 56,
      "outputs": [
        {
          "output_type": "stream",
          "name": "stdout",
          "text": [
            "+--------------------+-----+--------------------+--------------------+----------+\n",
            "|            features|label|       rawPrediction|         probability|prediction|\n",
            "+--------------------+-----+--------------------+--------------------+----------+\n",
            "|(25,[0,1,2,5,7,9,...|  1.0|[-0.9923727762339...|[0.27044366475404...|       1.0|\n",
            "|(25,[0,1,2,5,7,9,...|  1.0|[-0.9923694123461...|[0.27044432846269...|       1.0|\n",
            "|(25,[0,1,2,5,7,9,...|  0.0|[-0.9923635255424...|[0.27044548995531...|       1.0|\n",
            "|(25,[0,1,2,5,7,9,...|  1.0|[-0.9923576387388...|[0.27044665145106...|       1.0|\n",
            "|(25,[0,1,2,5,7,9,...|  1.0|[-0.9923475470754...|[0.27044864259394...|       1.0|\n",
            "|(25,[0,1,2,5,7,9,...|  1.0|[-0.9923391373559...|[0.27045030188672...|       1.0|\n",
            "|(25,[0,1,2,5,7,9,...|  1.0|[-0.9662859956335...|[0.27562140067051...|       1.0|\n",
            "|(25,[0,1,2,5,7,9,...|  1.0|[-0.9400133602325...|[0.28089764388680...|       1.0|\n",
            "|(25,[0,1,2,5,7,9,...|  1.0|[-0.9394953215123...|[0.28100229655776...|       1.0|\n",
            "|(25,[0,1,2,5,7,9,...|  1.0|[-0.9130006695169...|[0.28638620011420...|       1.0|\n",
            "|(25,[0,1,2,5,7,9,...|  0.0|[-0.8086014068545...|[0.30818860746870...|       1.0|\n",
            "|(25,[0,1,2,5,7,9,...|  1.0|[-0.7827156185498...|[0.31373490341840...|       1.0|\n",
            "|(25,[0,1,2,5,7,9,...|  1.0|[-0.6505350168110...|[0.34286898264070...|       1.0|\n",
            "|(25,[0,1,2,5,7,9,...|  1.0|[-0.3887261631968...|[0.40402398855387...|       1.0|\n",
            "|(25,[0,1,2,5,7,9,...|  1.0|[-0.7741761701950...|[0.31557640993795...|       1.0|\n",
            "|(25,[0,1,2,5,7,9,...|  0.0|[-0.7741568278402...|[0.31558058766822...|       1.0|\n",
            "|(25,[0,1,2,5,7,9,...|  1.0|[-0.7740802993929...|[0.31559711724106...|       1.0|\n",
            "|(25,[0,1,2,5,7,9,...|  0.0|[-0.7482138534430...|[0.32121061771074...|       1.0|\n",
            "|(25,[0,1,2,5,7,9,...|  1.0|[-0.7478850334112...|[0.32128231598933...|       1.0|\n",
            "|(25,[0,1,2,5,7,9,...|  1.0|[-0.7477454320677...|[0.32131275821626...|       1.0|\n",
            "+--------------------+-----+--------------------+--------------------+----------+\n",
            "only showing top 20 rows\n",
            "\n"
          ]
        }
      ]
    },
    {
      "cell_type": "markdown",
      "source": [
        "## Evaluation"
      ],
      "metadata": {
        "id": "dNEJL8_eUEmD"
      }
    },
    {
      "cell_type": "markdown",
      "source": [
        "### Before PreProcessing"
      ],
      "metadata": {
        "id": "F3T9kvNDUlUZ"
      }
    },
    {
      "cell_type": "code",
      "source": [
        "p_n, p_y = model_before.summary.precisionByLabel\n",
        "r_n, r_y = model_before.summary.recallByLabel\n",
        "f_n, f_y = model_before.summary.fMeasureByLabel()\n",
        "\n",
        "print(f\"Accuracy:\\t {model_before.summary.accuracy * 100:.2f}%\")\n",
        "print(f\"Precision for\\t Yes: {p_y * 100:.2f}% \\t No: {p_n * 100:.2f}%\")\n",
        "print(f\"Recall for\\t Yes: {r_y * 100:.2f}% \\t No: {r_n * 100:.2f}%\")\n",
        "print(f\"F-Measure for\\t Yes: {f_y * 100:.2f}% \\t No: {f_n * 100:.2f}%\")"
      ],
      "metadata": {
        "colab": {
          "base_uri": "https://localhost:8080/"
        },
        "id": "Iok00ImjNibL",
        "outputId": "ef8bceed-a76e-44f1-fa5c-2d3a9265f396"
      },
      "execution_count": 89,
      "outputs": [
        {
          "output_type": "stream",
          "name": "stdout",
          "text": [
            "Accuracy:\t 80.43%\n",
            "Precision for\t Yes: 67.02% \t No: 83.89%\n",
            "Recall for\t Yes: 51.73% \t No: 90.80%\n",
            "F-Measure for\t Yes: 58.39% \t No: 87.21%\n"
          ]
        }
      ]
    },
    {
      "cell_type": "markdown",
      "source": [
        "### After PreProcessing"
      ],
      "metadata": {
        "id": "YbA-YObYUoxw"
      }
    },
    {
      "cell_type": "code",
      "source": [
        "p_n, p_y = model.summary.precisionByLabel\n",
        "r_n, r_y = model.summary.recallByLabel\n",
        "f_n, f_y = model.summary.fMeasureByLabel()\n",
        "\n",
        "print(f\"Accuracy:\\t {model.summary.accuracy * 100:.2f}%\")\n",
        "print(f\"Precision for\\t Yes: {p_y * 100:.2f}% \\t No: {p_n * 100:.2f}%\")\n",
        "print(f\"Recall for\\t Yes: {r_y * 100:.2f}% \\t No: {r_n * 100:.2f}%\")\n",
        "print(f\"F-Measure for\\t Yes: {f_y * 100:.2f}% \\t No: {f_n * 100:.2f}%\")"
      ],
      "metadata": {
        "colab": {
          "base_uri": "https://localhost:8080/"
        },
        "id": "Sh0PGf7jWgwV",
        "outputId": "32dd1e00-468f-4ea6-eac5-f2bc5eb39a0b"
      },
      "execution_count": 90,
      "outputs": [
        {
          "output_type": "stream",
          "name": "stdout",
          "text": [
            "Accuracy:\t 80.00%\n",
            "Precision for\t Yes: 65.17% \t No: 83.89%\n",
            "Recall for\t Yes: 51.50% \t No: 90.17%\n",
            "F-Measure for\t Yes: 57.54% \t No: 86.92%\n"
          ]
        }
      ]
    }
  ]
}